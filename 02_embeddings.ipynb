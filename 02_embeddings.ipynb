{
 "cells": [
  {
   "cell_type": "markdown",
   "id": "779d8ca1-89f6-4b9b-8aa3-04c658d3427f",
   "metadata": {},
   "source": [
    "# Embedding Bug Reports with OpenAI <code>text-embedding-3-small</code>\n",
    "\n",
    "<u><b>Full Procedure<u><b>\n",
    "\n",
    "1. Load Dependencies and Dataset\n",
    "- Necessary libraries are imported for data handling, pre-processing the text, and interaction with the OpenAI API. A custom text pre-processor and OpenAI client are initialized\n",
    "- The dataset of resolved Mozilla Firefox bug reports is loaded into a pandas DataFrame\n",
    "\n",
    "2. Preprocess the Text\n",
    "- Concatenate the Summary and Description fields, as they will be used as input for the models in the next steps\n",
    "- The bug report Concat field is pre-processed using the custom <code>PreProcessor</code> class to clean and prepare text for embedding\n",
    "\n",
    "3. Tokenization and Embed the Text\n",
    "- Each text entry is tokenized using the <code>tiktoken</code> library to ensure compatibility with OpenAI models and calculate token usage\n",
    "- Each preprocessed comment is embedded using the OpenAI embedding API. Embeddings are stored along with their corresponding metadata\n",
    "\n",
    "4. Save the Embeddings\n",
    "- The computed embeddings and metadata are saved to a file for future use in tasks like classification, fine-tuning, clustering and semantic search"
   ]
  },
  {
   "cell_type": "markdown",
   "id": "d284b961-44fa-4ab8-ab17-6bb59c8de79d",
   "metadata": {},
   "source": [
    "### Imports and Read Data"
   ]
  },
  {
   "cell_type": "code",
   "execution_count": 1,
   "id": "3aa8a03f-d337-41e6-88fe-d237ca9b313c",
   "metadata": {},
   "outputs": [],
   "source": [
    "from typing import List\n",
    "import pandas as pd\n",
    "from text_preprocessing import PreProcessor\n",
    "\n",
    "import tiktoken\n",
    "from openai import OpenAI\n",
    "\n",
    "client = OpenAI()\n",
    "# Custom pre-processor class\n",
    "pp = PreProcessor()"
   ]
  },
  {
   "cell_type": "code",
   "execution_count": 2,
   "id": "0648f628-d9b2-460d-90be-712315b55e92",
   "metadata": {},
   "outputs": [],
   "source": [
    "# Retrieve the bug reports from the request_data notebook\n",
    "data = pd.read_csv(\"bug_reports_mozilla_firefox_resolved_fixed_comments.csv\")"
   ]
  },
  {
   "cell_type": "code",
   "execution_count": 3,
   "id": "382c1d3b-9023-4e04-b856-57e930f48347",
   "metadata": {},
   "outputs": [
    {
     "data": {
      "text/html": [
       "<div>\n",
       "<style scoped>\n",
       "    .dataframe tbody tr th:only-of-type {\n",
       "        vertical-align: middle;\n",
       "    }\n",
       "\n",
       "    .dataframe tbody tr th {\n",
       "        vertical-align: top;\n",
       "    }\n",
       "\n",
       "    .dataframe thead th {\n",
       "        text-align: right;\n",
       "    }\n",
       "</style>\n",
       "<table border=\"1\" class=\"dataframe\">\n",
       "  <thead>\n",
       "    <tr style=\"text-align: right;\">\n",
       "      <th></th>\n",
       "      <th>Bug ID</th>\n",
       "      <th>Type</th>\n",
       "      <th>Summary</th>\n",
       "      <th>Product</th>\n",
       "      <th>Component</th>\n",
       "      <th>Status</th>\n",
       "      <th>Resolution</th>\n",
       "      <th>Priority</th>\n",
       "      <th>Severity</th>\n",
       "      <th>Description</th>\n",
       "    </tr>\n",
       "  </thead>\n",
       "  <tbody>\n",
       "    <tr>\n",
       "      <th>0</th>\n",
       "      <td>1955715</td>\n",
       "      <td>enhancement</td>\n",
       "      <td>Update addonsInfo asrouter targeting to allow ...</td>\n",
       "      <td>Firefox</td>\n",
       "      <td>Messaging System</td>\n",
       "      <td>RESOLVED</td>\n",
       "      <td>FIXED</td>\n",
       "      <td>P1</td>\n",
       "      <td>--</td>\n",
       "      <td>Currently, the addonsInfo targeting returns an...</td>\n",
       "    </tr>\n",
       "    <tr>\n",
       "      <th>1</th>\n",
       "      <td>1953155</td>\n",
       "      <td>task</td>\n",
       "      <td>Enable expand on hover and remove coming soon ...</td>\n",
       "      <td>Firefox</td>\n",
       "      <td>Sidebar</td>\n",
       "      <td>RESOLVED</td>\n",
       "      <td>FIXED</td>\n",
       "      <td>P1</td>\n",
       "      <td>--</td>\n",
       "      <td>When expand on hover is enabled, the message s...</td>\n",
       "    </tr>\n",
       "    <tr>\n",
       "      <th>2</th>\n",
       "      <td>1953857</td>\n",
       "      <td>enhancement</td>\n",
       "      <td>Add support for picker style tiles in the Abou...</td>\n",
       "      <td>Firefox</td>\n",
       "      <td>Messaging System</td>\n",
       "      <td>RESOLVED</td>\n",
       "      <td>FIXED</td>\n",
       "      <td>P1</td>\n",
       "      <td>--</td>\n",
       "      <td>In bug 1910633 we added support for a single s...</td>\n",
       "    </tr>\n",
       "    <tr>\n",
       "      <th>3</th>\n",
       "      <td>1945526</td>\n",
       "      <td>task</td>\n",
       "      <td>[SPIKE] What’s New Notification: Windows Toast...</td>\n",
       "      <td>Firefox</td>\n",
       "      <td>Messaging System</td>\n",
       "      <td>RESOLVED</td>\n",
       "      <td>FIXED</td>\n",
       "      <td>P1</td>\n",
       "      <td>--</td>\n",
       "      <td>Spike to understand how the Windows Toast Noti...</td>\n",
       "    </tr>\n",
       "    <tr>\n",
       "      <th>4</th>\n",
       "      <td>1945564</td>\n",
       "      <td>enhancement</td>\n",
       "      <td>Add new callout for Create Tab Group action &amp;&amp;...</td>\n",
       "      <td>Firefox</td>\n",
       "      <td>Messaging System</td>\n",
       "      <td>RESOLVED</td>\n",
       "      <td>FIXED</td>\n",
       "      <td>P1</td>\n",
       "      <td>--</td>\n",
       "      <td>Scope is to update &amp;&amp; add to the onboarding ca...</td>\n",
       "    </tr>\n",
       "  </tbody>\n",
       "</table>\n",
       "</div>"
      ],
      "text/plain": [
       "    Bug ID         Type                                            Summary  \\\n",
       "0  1955715  enhancement  Update addonsInfo asrouter targeting to allow ...   \n",
       "1  1953155         task  Enable expand on hover and remove coming soon ...   \n",
       "2  1953857  enhancement  Add support for picker style tiles in the Abou...   \n",
       "3  1945526         task  [SPIKE] What’s New Notification: Windows Toast...   \n",
       "4  1945564  enhancement  Add new callout for Create Tab Group action &&...   \n",
       "\n",
       "   Product         Component    Status Resolution Priority Severity  \\\n",
       "0  Firefox  Messaging System  RESOLVED      FIXED       P1       --   \n",
       "1  Firefox           Sidebar  RESOLVED      FIXED       P1       --   \n",
       "2  Firefox  Messaging System  RESOLVED      FIXED       P1       --   \n",
       "3  Firefox  Messaging System  RESOLVED      FIXED       P1       --   \n",
       "4  Firefox  Messaging System  RESOLVED      FIXED       P1       --   \n",
       "\n",
       "                                         Description  \n",
       "0  Currently, the addonsInfo targeting returns an...  \n",
       "1  When expand on hover is enabled, the message s...  \n",
       "2  In bug 1910633 we added support for a single s...  \n",
       "3  Spike to understand how the Windows Toast Noti...  \n",
       "4  Scope is to update && add to the onboarding ca...  "
      ]
     },
     "execution_count": 3,
     "metadata": {},
     "output_type": "execute_result"
    }
   ],
   "source": [
    "data.head()"
   ]
  },
  {
   "cell_type": "code",
   "execution_count": 4,
   "id": "56ecf633-53e5-4379-b838-f0d7728a89a5",
   "metadata": {},
   "outputs": [
    {
     "data": {
      "text/plain": [
       "'Update addonsInfo asrouter targeting to allow targeting on user-installed addons'"
      ]
     },
     "execution_count": 4,
     "metadata": {},
     "output_type": "execute_result"
    }
   ],
   "source": [
    "data.Summary[0]"
   ]
  },
  {
   "cell_type": "code",
   "execution_count": 8,
   "id": "1527a381-3a2e-45c3-9dcc-6a1b14539001",
   "metadata": {},
   "outputs": [
    {
     "data": {
      "text/plain": [
       "\"Currently, the addonsInfo targeting returns an object of objects, each representing an addon with said addon's ID/Name being the key of the object. This makes it difficult to use in JEXL targeting expressions unless you are already aware of the ID/Name of the addon you with to gather information for. \\nUpdating `addonsInfo`'s `addons` property to be an array of objects, each with a property containing the id/name (as was previously the key) will support the initial use case of getting a particular object by ID via JEXL, but also allow for further use cases such as evaluating if a user has any existing non-system addons active.\""
      ]
     },
     "execution_count": 8,
     "metadata": {},
     "output_type": "execute_result"
    }
   ],
   "source": [
    "data.Description[0]"
   ]
  },
  {
   "cell_type": "code",
   "execution_count": 5,
   "id": "ffeb89fb-1186-4df0-aa35-5b7d19afabdb",
   "metadata": {},
   "outputs": [],
   "source": [
    "# Concatenate the Summary and Description fields in another column named Concat\n",
    "data[\"Concat\"] = (\"Summary: \" + data.Summary.str.strip() + \"; Description: \" + data.Description.str.strip())"
   ]
  },
  {
   "cell_type": "code",
   "execution_count": 7,
   "id": "ff1b0abb-884b-47db-b2b5-fe115ace3d55",
   "metadata": {},
   "outputs": [
    {
     "data": {
      "text/html": [
       "<div>\n",
       "<style scoped>\n",
       "    .dataframe tbody tr th:only-of-type {\n",
       "        vertical-align: middle;\n",
       "    }\n",
       "\n",
       "    .dataframe tbody tr th {\n",
       "        vertical-align: top;\n",
       "    }\n",
       "\n",
       "    .dataframe thead th {\n",
       "        text-align: right;\n",
       "    }\n",
       "</style>\n",
       "<table border=\"1\" class=\"dataframe\">\n",
       "  <thead>\n",
       "    <tr style=\"text-align: right;\">\n",
       "      <th></th>\n",
       "      <th>Bug ID</th>\n",
       "      <th>Type</th>\n",
       "      <th>Summary</th>\n",
       "      <th>Product</th>\n",
       "      <th>Component</th>\n",
       "      <th>Status</th>\n",
       "      <th>Resolution</th>\n",
       "      <th>Priority</th>\n",
       "      <th>Severity</th>\n",
       "      <th>Description</th>\n",
       "      <th>Concat</th>\n",
       "    </tr>\n",
       "  </thead>\n",
       "  <tbody>\n",
       "    <tr>\n",
       "      <th>0</th>\n",
       "      <td>1955715</td>\n",
       "      <td>enhancement</td>\n",
       "      <td>Update addonsInfo asrouter targeting to allow ...</td>\n",
       "      <td>Firefox</td>\n",
       "      <td>Messaging System</td>\n",
       "      <td>RESOLVED</td>\n",
       "      <td>FIXED</td>\n",
       "      <td>P1</td>\n",
       "      <td>--</td>\n",
       "      <td>Currently, the addonsInfo targeting returns an...</td>\n",
       "      <td>Summary: Update addonsInfo asrouter targeting ...</td>\n",
       "    </tr>\n",
       "    <tr>\n",
       "      <th>1</th>\n",
       "      <td>1953155</td>\n",
       "      <td>task</td>\n",
       "      <td>Enable expand on hover and remove coming soon ...</td>\n",
       "      <td>Firefox</td>\n",
       "      <td>Sidebar</td>\n",
       "      <td>RESOLVED</td>\n",
       "      <td>FIXED</td>\n",
       "      <td>P1</td>\n",
       "      <td>--</td>\n",
       "      <td>When expand on hover is enabled, the message s...</td>\n",
       "      <td>Summary: Enable expand on hover and remove com...</td>\n",
       "    </tr>\n",
       "  </tbody>\n",
       "</table>\n",
       "</div>"
      ],
      "text/plain": [
       "    Bug ID         Type                                            Summary  \\\n",
       "0  1955715  enhancement  Update addonsInfo asrouter targeting to allow ...   \n",
       "1  1953155         task  Enable expand on hover and remove coming soon ...   \n",
       "\n",
       "   Product         Component    Status Resolution Priority Severity  \\\n",
       "0  Firefox  Messaging System  RESOLVED      FIXED       P1       --   \n",
       "1  Firefox           Sidebar  RESOLVED      FIXED       P1       --   \n",
       "\n",
       "                                         Description  \\\n",
       "0  Currently, the addonsInfo targeting returns an...   \n",
       "1  When expand on hover is enabled, the message s...   \n",
       "\n",
       "                                              Concat  \n",
       "0  Summary: Update addonsInfo asrouter targeting ...  \n",
       "1  Summary: Enable expand on hover and remove com...  "
      ]
     },
     "execution_count": 7,
     "metadata": {},
     "output_type": "execute_result"
    }
   ],
   "source": [
    "data.head(2)"
   ]
  },
  {
   "cell_type": "code",
   "execution_count": 9,
   "id": "ef35c878-29de-45e8-96d8-0d4cf213f9ab",
   "metadata": {},
   "outputs": [
    {
     "data": {
      "text/plain": [
       "\"Summary: Update addonsInfo asrouter targeting to allow targeting on user-installed addons; Description: Currently, the addonsInfo targeting returns an object of objects, each representing an addon with said addon's ID/Name being the key of the object. This makes it difficult to use in JEXL targeting expressions unless you are already aware of the ID/Name of the addon you with to gather information for. \\nUpdating `addonsInfo`'s `addons` property to be an array of objects, each with a property containing the id/name (as was previously the key) will support the initial use case of getting a particular object by ID via JEXL, but also allow for further use cases such as evaluating if a user has any existing non-system addons active.\""
      ]
     },
     "execution_count": 9,
     "metadata": {},
     "output_type": "execute_result"
    }
   ],
   "source": [
    "data.Concat[0]"
   ]
  },
  {
   "cell_type": "markdown",
   "id": "8ab64ecf-ac12-41ff-b634-32ba18b43785",
   "metadata": {},
   "source": [
    "### Pre-Process Text"
   ]
  },
  {
   "cell_type": "code",
   "execution_count": 10,
   "id": "5614c0c2-80d2-436a-9e88-c42e0f345762",
   "metadata": {},
   "outputs": [],
   "source": [
    "# Pre-process the text using the custom class\n",
    "data[\"Concat\"] = data[\"Concat\"].apply(pp.clean_text)"
   ]
  },
  {
   "cell_type": "code",
   "execution_count": 11,
   "id": "423e5eef-27fa-48ec-aa31-9e76823a5587",
   "metadata": {},
   "outputs": [
    {
     "data": {
      "text/plain": [
       "'summary update addonsinfo asrouter target allow target on user install addon description current addonsinfo target return object object represent addon said addon id name key object this make difficult use jexl target expression unless already aware id name addon gather information update addonsinfo addon property array object property contain id name support initial use case get particular object id via jexl also allow use case evaluate user existing non system addon active'"
      ]
     },
     "execution_count": 11,
     "metadata": {},
     "output_type": "execute_result"
    }
   ],
   "source": [
    "# Example of the cleaned text\n",
    "data.Concat[0]"
   ]
  },
  {
   "cell_type": "markdown",
   "id": "6650f697-37b2-45a5-8433-947744f27c10",
   "metadata": {},
   "source": [
    "### Tokenization and Embed the Text"
   ]
  },
  {
   "cell_type": "code",
   "execution_count": 12,
   "id": "ffeed902-d244-47be-9449-911925ecce52",
   "metadata": {},
   "outputs": [],
   "source": [
    "# Function to transform the text into embeddings using the model available in the OpenAI API\n",
    "def get_embedding(text: str, model = \"text-embedding-3-small\", **kwargs) -> List[float]:\n",
    "    # Replace newlines, which can negatively affect performance.\n",
    "    text = text.replace(\"\\n\", \" \")\n",
    "\n",
    "    response = client.embeddings.create(input=[text], model = model, **kwargs)\n",
    "\n",
    "    return response.data[0].embedding"
   ]
  },
  {
   "cell_type": "code",
   "execution_count": 13,
   "id": "7ba8af41-58fd-4c00-9452-8f7961d5cf60",
   "metadata": {},
   "outputs": [],
   "source": [
    "embedding_model = \"text-embedding-3-small\"\n",
    "embedding_encoding = \"cl100k_base\"\n",
    "max_tokens = 8000  # The maximum for text-embedding-3-small is 8191"
   ]
  },
  {
   "cell_type": "code",
   "execution_count": 14,
   "id": "d15c5026-78d7-4cc4-81cb-5a63f0aa5649",
   "metadata": {},
   "outputs": [],
   "source": [
    "# Encode the text to check the lenght of each bug report\n",
    "encoding = tiktoken.get_encoding(embedding_encoding)\n",
    "data[\"N_tokens\"] = data.Concat.apply(lambda x: len(encoding.encode(x)))"
   ]
  },
  {
   "cell_type": "code",
   "execution_count": 15,
   "id": "4013f616-b132-4926-a282-f012ac091bf0",
   "metadata": {},
   "outputs": [
    {
     "data": {
      "text/plain": [
       "16877"
      ]
     },
     "execution_count": 15,
     "metadata": {},
     "output_type": "execute_result"
    }
   ],
   "source": [
    "# There is one example with 16.877 words, so we will remove it from the dataset before creating the embeddings\n",
    "max(data[\"N_tokens\"])"
   ]
  },
  {
   "cell_type": "code",
   "execution_count": 24,
   "id": "2673e272-f756-4da2-8ec8-70fe45795442",
   "metadata": {},
   "outputs": [],
   "source": [
    "data.drop(data[data[\"N_tokens\"] == 16877].index, inplace = True)"
   ]
  },
  {
   "cell_type": "code",
   "execution_count": 28,
   "id": "f4d0f984-88ed-44b0-a13e-b58a2ce319b8",
   "metadata": {},
   "outputs": [],
   "source": [
    "data.reset_index(drop = True, inplace = True)"
   ]
  },
  {
   "cell_type": "code",
   "execution_count": 30,
   "id": "42c2bb93-ea19-424d-a59b-501fa178725c",
   "metadata": {},
   "outputs": [
    {
     "data": {
      "text/plain": [
       "3268"
      ]
     },
     "execution_count": 30,
     "metadata": {},
     "output_type": "execute_result"
    }
   ],
   "source": [
    "# Now, the example with the max lenght has 3.268 words, which is fine for the embedding model \n",
    "max(data[\"N_tokens\"])"
   ]
  },
  {
   "cell_type": "code",
   "execution_count": 34,
   "id": "4c9de752-97b9-4028-b756-697fb597890a",
   "metadata": {},
   "outputs": [],
   "source": [
    "# Create a new column name Embeddings and apply the vectorization for each bug report text\n",
    "# This may take a few minutes\n",
    "data[\"Embeddings\"] = data.Concat.apply(lambda x: get_embedding(x, model = embedding_model))"
   ]
  },
  {
   "cell_type": "markdown",
   "id": "8d51ffab-af22-4690-8725-41ef2580ee33",
   "metadata": {},
   "source": [
    "### Save Embeddings"
   ]
  },
  {
   "cell_type": "code",
   "execution_count": 35,
   "id": "fe95d9f9-01c3-48bd-b44a-5983e04b4cef",
   "metadata": {},
   "outputs": [],
   "source": [
    "# Save data to CSV\n",
    "data.to_csv(\"bug_reports_mozilla_firefox_resolved_fixed_comments_embeddings.csv\", index = None)"
   ]
  }
 ],
 "metadata": {
  "kernelspec": {
   "display_name": "Python 3 (ipykernel)",
   "language": "python",
   "name": "python3"
  },
  "language_info": {
   "codemirror_mode": {
    "name": "ipython",
    "version": 3
   },
   "file_extension": ".py",
   "mimetype": "text/x-python",
   "name": "python",
   "nbconvert_exporter": "python",
   "pygments_lexer": "ipython3",
   "version": "3.10.12"
  }
 },
 "nbformat": 4,
 "nbformat_minor": 5
}
