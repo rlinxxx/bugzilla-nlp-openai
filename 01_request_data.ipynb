{
 "cells": [
  {
   "cell_type": "markdown",
   "id": "1498d4ba-ac87-46a1-8094-928cf3b0819e",
   "metadata": {},
   "source": [
    "# Bug Report Collection from Bugzilla API\n",
    "\n",
    "<u><b>Full Procedure <u><b>\n",
    "\n",
    "1. Import Dependencies\n",
    "\n",
    "- Essential libraries are imported, including requests for interacting with the Bugzilla REST API, pandas for data structuring, and tqdm for progress visualization\n",
    "\n",
    "2. Define API Parameters\n",
    "\n",
    "- Parameters for the API request are set to filter for: Client Software classification, Firefox product, RESOLVED bugs with a FIXED resolution\n",
    "- Pagination is controlled using limit and offset\n",
    "- A dictionary is initialized to store bug metadata (e.g., ID, type, summary, description), and a set is used to avoid duplicate bug entries\n",
    "\n",
    "3. Fetch Bug Reports\n",
    "\n",
    "- The script makes repeated requests to the Bugzilla API, collecting bugs in batches\n",
    "- Bugs without a priority are skipped\n",
    "- Each bug’s metadata is stored\n",
    "- For each bug, the script retrieves the first comment using the comments endpoint\n",
    "- This serves as the bug’s description and is added to the dataset\n",
    "- The script updates the offset after each batch and stops when the maximum number of bugs (MAX_BUGS) is reached\n",
    "\n",
    "4. Output\n",
    "\n",
    "- Once the desired number of bugs is collected, the total count is printed and the full dataset is ready for export or further processing"
   ]
  },
  {
   "cell_type": "markdown",
   "id": "ff7962ba-71bc-4343-afd6-156aac207e08",
   "metadata": {},
   "source": [
    "### Imports and Request Data"
   ]
  },
  {
   "cell_type": "code",
   "execution_count": 2,
   "id": "99a8b357-e744-4bad-98af-ee8538f66e4a",
   "metadata": {},
   "outputs": [],
   "source": [
    "import requests\n",
    "import pandas as pd\n",
    "from tqdm import tqdm\n",
    "\n",
    "tqdm.pandas()"
   ]
  },
  {
   "cell_type": "code",
   "execution_count": null,
   "id": "e7bdfc31-b33f-492f-860b-b2738c59b90e",
   "metadata": {},
   "outputs": [],
   "source": [
    "bugzilla_url = \"https://bugzilla.mozilla.org/rest/bug\"\n",
    "params = {\n",
    "    \"classification\": \"Client Software\", \n",
    "    \"product\": \"Firefox\",\n",
    "    \"status\": \"RESOLVED\",\n",
    "    \"resolution\": \"FIXED\",\n",
    "    \"limit\": 100,  # Fetch 100 bugs at a time\n",
    "    \"offset\": 0,   # Start from first bug\n",
    "}\n",
    "\n",
    "MAX_BUGS = 10000\n",
    "\n",
    "# Store bug reports\n",
    "bug_reports = {\"id\": [], \"type\": [], \"product\": [], \"component\": [], \"status\": [],\n",
    "               \"summary\": [], \"priority\": [], \"description\": []\n",
    "}\n",
    "\n",
    "# Set to track seen IDs and avoid duplicates\n",
    "seen_bug_ids = set()\n",
    "\n",
    "while True:\n",
    "    try:\n",
    "        response = requests.get(bugzilla_url, params = params)  # Increase timeout to 30 sec\n",
    "        bugs = response.json()\n",
    "        \n",
    "        for bug in bugs[\"bugs\"]:\n",
    "\n",
    "            if bug[\"priority\"] == \"--\":\n",
    "                continue # Skip bugs where priority is none\n",
    "            \n",
    "            bug_id = bug[\"id\"] \n",
    "\n",
    "            if bug_id in seen_bug_ids:\n",
    "                continue  # Skip duplicates\n",
    "                \n",
    "            seen_bug_ids.add(bug_id)\n",
    "            \n",
    "            bug_reports[\"id\"].append(bug[\"id\"])\n",
    "            bug_reports[\"type\"].append(bug[\"type\"])\n",
    "            bug_reports[\"product\"].append(bug[\"product\"])\n",
    "            bug_reports[\"component\"].append(bug[\"component\"])\n",
    "            bug_reports[\"status\"].append(bug[\"status\"])\n",
    "            bug_reports[\"summary\"].append(bug[\"summary\"])\n",
    "            bug_reports[\"priority\"].append(bug[\"priority\"])\n",
    "\n",
    "             # Fetch the first comment (bug description)\n",
    "            comments_url = f\"https://bugzilla.mozilla.org/rest/bug/{bug_id}/comment\"\n",
    "            \n",
    "            try:\n",
    "                comments_response = requests.get(comments_url)\n",
    "                comments_data = comments_response.json()\n",
    "    \n",
    "                # Extract the first comment as the bug description\n",
    "                first_comment = comments_data[\"bugs\"][str(bug_id)][\"comments\"][0][\"text\"]\n",
    "            except (requests.exceptions.RequestException, IndexError, KeyError) as e:\n",
    "                first_comment = \"--\"\n",
    "                \n",
    "            bug_reports[\"description\"].append(first_comment)\n",
    "\n",
    "            params[\"offset\"] += params[\"limit\"] # Move to next batch\n",
    "\n",
    "            # params[\"offset\"] += len(bugs) # Move to next batch\n",
    "\n",
    "            # Break if max bugs reached\n",
    "            if len(bug_reports[\"id\"]) >= MAX_BUGS:\n",
    "                break\n",
    "\n",
    "        # Also break outer loop if max bugs reached\n",
    "        if len(bug_reports[\"id\"]) >= MAX_BUGS:\n",
    "            break\n",
    "    \n",
    "    except requests.exceptions.RequestException as e:\n",
    "        print(f\"Error: {e}\")\n",
    "        break\n",
    "\n",
    "print(f\"Total bugs fetched: {len(bug_reports)}\")"
   ]
  },
  {
   "cell_type": "markdown",
   "id": "8531cdb3-9dc4-461b-9371-c2d4317b0ec4",
   "metadata": {},
   "source": [
    "### Retrieve comments (description)"
   ]
  },
  {
   "cell_type": "code",
   "execution_count": 3,
   "id": "bb473154-96aa-43c6-9abc-fe81a806ea5f",
   "metadata": {},
   "outputs": [],
   "source": [
    "data = pd.read_csv(\"bug_reports_mozilla_firefox_resolved_fixed.csv\")"
   ]
  },
  {
   "cell_type": "code",
   "execution_count": 5,
   "id": "15672b21-3546-461a-8c77-69254cc0bb99",
   "metadata": {},
   "outputs": [
    {
     "data": {
      "text/html": [
       "<div>\n",
       "<style scoped>\n",
       "    .dataframe tbody tr th:only-of-type {\n",
       "        vertical-align: middle;\n",
       "    }\n",
       "\n",
       "    .dataframe tbody tr th {\n",
       "        vertical-align: top;\n",
       "    }\n",
       "\n",
       "    .dataframe thead th {\n",
       "        text-align: right;\n",
       "    }\n",
       "</style>\n",
       "<table border=\"1\" class=\"dataframe\">\n",
       "  <thead>\n",
       "    <tr style=\"text-align: right;\">\n",
       "      <th></th>\n",
       "      <th>Bug ID</th>\n",
       "      <th>Type</th>\n",
       "      <th>Summary</th>\n",
       "      <th>Product</th>\n",
       "      <th>Component</th>\n",
       "      <th>Status</th>\n",
       "      <th>Resolution</th>\n",
       "      <th>Priority</th>\n",
       "      <th>Severity</th>\n",
       "    </tr>\n",
       "  </thead>\n",
       "  <tbody>\n",
       "    <tr>\n",
       "      <th>0</th>\n",
       "      <td>1955715</td>\n",
       "      <td>enhancement</td>\n",
       "      <td>Update addonsInfo asrouter targeting to allow ...</td>\n",
       "      <td>Firefox</td>\n",
       "      <td>Messaging System</td>\n",
       "      <td>RESOLVED</td>\n",
       "      <td>FIXED</td>\n",
       "      <td>P1</td>\n",
       "      <td>--</td>\n",
       "    </tr>\n",
       "    <tr>\n",
       "      <th>1</th>\n",
       "      <td>1951788</td>\n",
       "      <td>enhancement</td>\n",
       "      <td>Retrieve custom wallpaper from profile and set...</td>\n",
       "      <td>Firefox</td>\n",
       "      <td>New Tab Page</td>\n",
       "      <td>RESOLVED</td>\n",
       "      <td>FIXED</td>\n",
       "      <td>P1</td>\n",
       "      <td>--</td>\n",
       "    </tr>\n",
       "    <tr>\n",
       "      <th>2</th>\n",
       "      <td>1953155</td>\n",
       "      <td>task</td>\n",
       "      <td>Enable expand on hover and remove coming soon ...</td>\n",
       "      <td>Firefox</td>\n",
       "      <td>Sidebar</td>\n",
       "      <td>RESOLVED</td>\n",
       "      <td>FIXED</td>\n",
       "      <td>P1</td>\n",
       "      <td>--</td>\n",
       "    </tr>\n",
       "    <tr>\n",
       "      <th>3</th>\n",
       "      <td>1953560</td>\n",
       "      <td>task</td>\n",
       "      <td>Add strings for Firefox Labs</td>\n",
       "      <td>Firefox</td>\n",
       "      <td>New Tab Page</td>\n",
       "      <td>RESOLVED</td>\n",
       "      <td>FIXED</td>\n",
       "      <td>P1</td>\n",
       "      <td>--</td>\n",
       "    </tr>\n",
       "    <tr>\n",
       "      <th>4</th>\n",
       "      <td>1953857</td>\n",
       "      <td>enhancement</td>\n",
       "      <td>Add support for picker style tiles in the Abou...</td>\n",
       "      <td>Firefox</td>\n",
       "      <td>Messaging System</td>\n",
       "      <td>RESOLVED</td>\n",
       "      <td>FIXED</td>\n",
       "      <td>P1</td>\n",
       "      <td>--</td>\n",
       "    </tr>\n",
       "  </tbody>\n",
       "</table>\n",
       "</div>"
      ],
      "text/plain": [
       "    Bug ID         Type                                            Summary  \\\n",
       "0  1955715  enhancement  Update addonsInfo asrouter targeting to allow ...   \n",
       "1  1951788  enhancement  Retrieve custom wallpaper from profile and set...   \n",
       "2  1953155         task  Enable expand on hover and remove coming soon ...   \n",
       "3  1953560         task                       Add strings for Firefox Labs   \n",
       "4  1953857  enhancement  Add support for picker style tiles in the Abou...   \n",
       "\n",
       "   Product         Component    Status Resolution Priority Severity  \n",
       "0  Firefox  Messaging System  RESOLVED      FIXED       P1       --  \n",
       "1  Firefox      New Tab Page  RESOLVED      FIXED       P1       --  \n",
       "2  Firefox           Sidebar  RESOLVED      FIXED       P1       --  \n",
       "3  Firefox      New Tab Page  RESOLVED      FIXED       P1       --  \n",
       "4  Firefox  Messaging System  RESOLVED      FIXED       P1       --  "
      ]
     },
     "execution_count": 5,
     "metadata": {},
     "output_type": "execute_result"
    }
   ],
   "source": [
    "data.head()"
   ]
  },
  {
   "cell_type": "code",
   "execution_count": 6,
   "id": "74f9d93b-4cb8-451a-b600-4d40b292bfab",
   "metadata": {},
   "outputs": [],
   "source": [
    "def fetch_first_comment(bug_id):\n",
    "    \n",
    "    url = f\"https://bugzilla.mozilla.org/rest/bug/{bug_id}/comment\"\n",
    "    \n",
    "    try:\n",
    "        response = requests.get(url)\n",
    "        comments_data = response.json()\n",
    "        return comments_data[\"bugs\"][str(bug_id)][\"comments\"][0][\"text\"]\n",
    "        \n",
    "    except Exception as e:\n",
    "        return \"--\""
   ]
  },
  {
   "cell_type": "code",
   "execution_count": 11,
   "id": "389dc734-6bca-4027-9a12-a897130069b9",
   "metadata": {},
   "outputs": [
    {
     "name": "stderr",
     "output_type": "stream",
     "text": [
      "100%|███████████████████████████████████████████████████████████████████████████| 10000/10000 [1:52:10<00:00,  1.49it/s]\n"
     ]
    }
   ],
   "source": [
    "data[\"Description\"] = data[\"Bug ID\"].progress_apply(fetch_first_comment)"
   ]
  },
  {
   "cell_type": "code",
   "execution_count": 28,
   "id": "0406bbcb-55df-4303-b487-a06aed2e8341",
   "metadata": {},
   "outputs": [],
   "source": [
    "# Drop rows without content\n",
    "data.drop(data[data[\"Description\"] == \"--\"].index, inplace=True)"
   ]
  },
  {
   "cell_type": "code",
   "execution_count": 35,
   "id": "d1f4ecb9-fe97-4880-8efd-5664f042cb83",
   "metadata": {},
   "outputs": [],
   "source": [
    "data.drop(data[data[\"Description\"] == \"\"].index, inplace=True)"
   ]
  },
  {
   "cell_type": "code",
   "execution_count": 36,
   "id": "b4a9d959-3490-42b5-a45d-3fa545f845e7",
   "metadata": {},
   "outputs": [
    {
     "data": {
      "text/plain": [
       "np.int64(0)"
      ]
     },
     "execution_count": 36,
     "metadata": {},
     "output_type": "execute_result"
    }
   ],
   "source": [
    "data.Description.isna().sum()"
   ]
  },
  {
   "cell_type": "code",
   "execution_count": 37,
   "id": "d0866ca3-e888-4934-8cfa-26ef564df53f",
   "metadata": {},
   "outputs": [
    {
     "data": {
      "text/plain": [
       "(9157, 10)"
      ]
     },
     "execution_count": 37,
     "metadata": {},
     "output_type": "execute_result"
    }
   ],
   "source": [
    "data.shape"
   ]
  },
  {
   "cell_type": "code",
   "execution_count": 40,
   "id": "8afc8169-cf8d-4d1e-b8f4-ed5cca0c1051",
   "metadata": {},
   "outputs": [
    {
     "data": {
      "text/html": [
       "<div>\n",
       "<style scoped>\n",
       "    .dataframe tbody tr th:only-of-type {\n",
       "        vertical-align: middle;\n",
       "    }\n",
       "\n",
       "    .dataframe tbody tr th {\n",
       "        vertical-align: top;\n",
       "    }\n",
       "\n",
       "    .dataframe thead th {\n",
       "        text-align: right;\n",
       "    }\n",
       "</style>\n",
       "<table border=\"1\" class=\"dataframe\">\n",
       "  <thead>\n",
       "    <tr style=\"text-align: right;\">\n",
       "      <th></th>\n",
       "      <th>Bug ID</th>\n",
       "      <th>Type</th>\n",
       "      <th>Summary</th>\n",
       "      <th>Product</th>\n",
       "      <th>Component</th>\n",
       "      <th>Status</th>\n",
       "      <th>Resolution</th>\n",
       "      <th>Priority</th>\n",
       "      <th>Severity</th>\n",
       "      <th>Description</th>\n",
       "    </tr>\n",
       "  </thead>\n",
       "  <tbody>\n",
       "    <tr>\n",
       "      <th>0</th>\n",
       "      <td>1955715</td>\n",
       "      <td>enhancement</td>\n",
       "      <td>Update addonsInfo asrouter targeting to allow ...</td>\n",
       "      <td>Firefox</td>\n",
       "      <td>Messaging System</td>\n",
       "      <td>RESOLVED</td>\n",
       "      <td>FIXED</td>\n",
       "      <td>P1</td>\n",
       "      <td>--</td>\n",
       "      <td>Currently, the addonsInfo targeting returns an...</td>\n",
       "    </tr>\n",
       "    <tr>\n",
       "      <th>2</th>\n",
       "      <td>1953155</td>\n",
       "      <td>task</td>\n",
       "      <td>Enable expand on hover and remove coming soon ...</td>\n",
       "      <td>Firefox</td>\n",
       "      <td>Sidebar</td>\n",
       "      <td>RESOLVED</td>\n",
       "      <td>FIXED</td>\n",
       "      <td>P1</td>\n",
       "      <td>--</td>\n",
       "      <td>When expand on hover is enabled, the message s...</td>\n",
       "    </tr>\n",
       "    <tr>\n",
       "      <th>4</th>\n",
       "      <td>1953857</td>\n",
       "      <td>enhancement</td>\n",
       "      <td>Add support for picker style tiles in the Abou...</td>\n",
       "      <td>Firefox</td>\n",
       "      <td>Messaging System</td>\n",
       "      <td>RESOLVED</td>\n",
       "      <td>FIXED</td>\n",
       "      <td>P1</td>\n",
       "      <td>--</td>\n",
       "      <td>In bug 1910633 we added support for a single s...</td>\n",
       "    </tr>\n",
       "    <tr>\n",
       "      <th>5</th>\n",
       "      <td>1945526</td>\n",
       "      <td>task</td>\n",
       "      <td>[SPIKE] What’s New Notification: Windows Toast...</td>\n",
       "      <td>Firefox</td>\n",
       "      <td>Messaging System</td>\n",
       "      <td>RESOLVED</td>\n",
       "      <td>FIXED</td>\n",
       "      <td>P1</td>\n",
       "      <td>--</td>\n",
       "      <td>Spike to understand how the Windows Toast Noti...</td>\n",
       "    </tr>\n",
       "    <tr>\n",
       "      <th>6</th>\n",
       "      <td>1945564</td>\n",
       "      <td>enhancement</td>\n",
       "      <td>Add new callout for Create Tab Group action &amp;&amp;...</td>\n",
       "      <td>Firefox</td>\n",
       "      <td>Messaging System</td>\n",
       "      <td>RESOLVED</td>\n",
       "      <td>FIXED</td>\n",
       "      <td>P1</td>\n",
       "      <td>--</td>\n",
       "      <td>Scope is to update &amp;&amp; add to the onboarding ca...</td>\n",
       "    </tr>\n",
       "  </tbody>\n",
       "</table>\n",
       "</div>"
      ],
      "text/plain": [
       "    Bug ID         Type                                            Summary  \\\n",
       "0  1955715  enhancement  Update addonsInfo asrouter targeting to allow ...   \n",
       "2  1953155         task  Enable expand on hover and remove coming soon ...   \n",
       "4  1953857  enhancement  Add support for picker style tiles in the Abou...   \n",
       "5  1945526         task  [SPIKE] What’s New Notification: Windows Toast...   \n",
       "6  1945564  enhancement  Add new callout for Create Tab Group action &&...   \n",
       "\n",
       "   Product         Component    Status Resolution Priority Severity  \\\n",
       "0  Firefox  Messaging System  RESOLVED      FIXED       P1       --   \n",
       "2  Firefox           Sidebar  RESOLVED      FIXED       P1       --   \n",
       "4  Firefox  Messaging System  RESOLVED      FIXED       P1       --   \n",
       "5  Firefox  Messaging System  RESOLVED      FIXED       P1       --   \n",
       "6  Firefox  Messaging System  RESOLVED      FIXED       P1       --   \n",
       "\n",
       "                                         Description  \n",
       "0  Currently, the addonsInfo targeting returns an...  \n",
       "2  When expand on hover is enabled, the message s...  \n",
       "4  In bug 1910633 we added support for a single s...  \n",
       "5  Spike to understand how the Windows Toast Noti...  \n",
       "6  Scope is to update && add to the onboarding ca...  "
      ]
     },
     "execution_count": 40,
     "metadata": {},
     "output_type": "execute_result"
    }
   ],
   "source": [
    "data.head()"
   ]
  },
  {
   "cell_type": "code",
   "execution_count": 45,
   "id": "fa399a55-b158-438c-bf6b-62f2cf61f7a5",
   "metadata": {},
   "outputs": [
    {
     "data": {
      "text/plain": [
       "np.int64(27)"
      ]
     },
     "execution_count": 45,
     "metadata": {},
     "output_type": "execute_result"
    }
   ],
   "source": [
    "# Check for duplicates\n",
    "data[\"Description\"].duplicated().sum()"
   ]
  },
  {
   "cell_type": "code",
   "execution_count": 46,
   "id": "ebe8e8df-a911-486f-af74-ec1461c67c7a",
   "metadata": {},
   "outputs": [],
   "source": [
    "# Save to CSV\n",
    "data.to_csv(\"bug_reports_mozilla_firefox_resolved_fixed_comments.csv\", index = None)"
   ]
  }
 ],
 "metadata": {
  "kernelspec": {
   "display_name": "Python 3 (ipykernel)",
   "language": "python",
   "name": "python3"
  },
  "language_info": {
   "codemirror_mode": {
    "name": "ipython",
    "version": 3
   },
   "file_extension": ".py",
   "mimetype": "text/x-python",
   "name": "python",
   "nbconvert_exporter": "python",
   "pygments_lexer": "ipython3",
   "version": "3.10.12"
  }
 },
 "nbformat": 4,
 "nbformat_minor": 5
}
