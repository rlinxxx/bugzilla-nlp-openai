{
 "cells": [
  {
   "cell_type": "markdown",
   "id": "19a92971-f30c-442f-b17a-77bb4976e288",
   "metadata": {},
   "source": [
    "# Zero-Shot Classification with OpenAI\n",
    "\n",
    "<u><b>Full Procedure<u><b>\n",
    "\n",
    "1. Import Dependencies and Read Data\n",
    "- Standard libraries for data handling, evaluation metrics, and the OpenAI API are imported\n",
    "- An instance of the OpenAI client is created to enable API calls for classification\n",
    "- The dataset is loaded from a CSV file. It includes the already vectorized text in the form of embeddings, that are converted from strings to Python lists using <code>literal_eval</code>\n",
    "\n",
    "2. Define the Zero-Shot Classification Function\n",
    "- A function is created to send text samples and candidate labels to the OpenAI API for zero-shot classification, leveraging the model’s ability to make inferences without prior training on the labels\n",
    "- The function is applied to each example in the dataset, returning model predictions\n",
    "- Classification performance is evaluated using metrics such as precision, recall, and F1-score. A precision-recall plot is generated to visualize performance"
   ]
  },
  {
   "cell_type": "markdown",
   "id": "de6d26be-e945-4f93-ad91-27524d540f8e",
   "metadata": {},
   "source": [
    "### Imports and Read Data"
   ]
  },
  {
   "cell_type": "code",
   "execution_count": 1,
   "id": "4b6e7acf-adcf-479e-a983-b52dfb04345c",
   "metadata": {},
   "outputs": [],
   "source": [
    "import pandas as pd\n",
    "import numpy as np\n",
    "from ast import literal_eval\n",
    "from typing import List, Optional\n",
    "\n",
    "from openai import OpenAI\n",
    "\n",
    "from sklearn.metrics import classification_report\n",
    "from sklearn.metrics import PrecisionRecallDisplay\n",
    "\n",
    "client = OpenAI()"
   ]
  },
  {
   "cell_type": "code",
   "execution_count": 3,
   "id": "3352e0ec-37da-4a38-9102-35ca8734874c",
   "metadata": {},
   "outputs": [],
   "source": [
    "# Define embedding model and data path\n",
    "EMBEDDING_MODEL = \"text-embedding-3-small\"\n",
    "\n",
    "data_path = \"bug_reports_mozilla_firefox_resolved_fixed_comments_embeddings.csv\""
   ]
  },
  {
   "cell_type": "code",
   "execution_count": 4,
   "id": "e93ee981-14bd-4c29-93e8-5cc649a898c1",
   "metadata": {},
   "outputs": [],
   "source": [
    "# The embeddings are already stored in the CSV, and need to be transformed from strings to lists\n",
    "data = pd.read_csv(data_path)\n",
    "data[\"Embeddings\"] = data.Embeddings.apply(literal_eval).apply(np.array)"
   ]
  },
  {
   "cell_type": "code",
   "execution_count": 5,
   "id": "d656295f-4697-40eb-ac95-44f2dbb25b7d",
   "metadata": {},
   "outputs": [
    {
     "data": {
      "text/html": [
       "<div>\n",
       "<style scoped>\n",
       "    .dataframe tbody tr th:only-of-type {\n",
       "        vertical-align: middle;\n",
       "    }\n",
       "\n",
       "    .dataframe tbody tr th {\n",
       "        vertical-align: top;\n",
       "    }\n",
       "\n",
       "    .dataframe thead th {\n",
       "        text-align: right;\n",
       "    }\n",
       "</style>\n",
       "<table border=\"1\" class=\"dataframe\">\n",
       "  <thead>\n",
       "    <tr style=\"text-align: right;\">\n",
       "      <th></th>\n",
       "      <th>Bug ID</th>\n",
       "      <th>Type</th>\n",
       "      <th>Summary</th>\n",
       "      <th>Product</th>\n",
       "      <th>Component</th>\n",
       "      <th>Status</th>\n",
       "      <th>Resolution</th>\n",
       "      <th>Priority</th>\n",
       "      <th>Severity</th>\n",
       "      <th>Description</th>\n",
       "      <th>Concat</th>\n",
       "      <th>N_tokens</th>\n",
       "      <th>Embeddings</th>\n",
       "    </tr>\n",
       "  </thead>\n",
       "  <tbody>\n",
       "    <tr>\n",
       "      <th>0</th>\n",
       "      <td>1955715</td>\n",
       "      <td>enhancement</td>\n",
       "      <td>Update addonsInfo asrouter targeting to allow ...</td>\n",
       "      <td>Firefox</td>\n",
       "      <td>Messaging System</td>\n",
       "      <td>RESOLVED</td>\n",
       "      <td>FIXED</td>\n",
       "      <td>P1</td>\n",
       "      <td>--</td>\n",
       "      <td>Currently, the addonsInfo targeting returns an...</td>\n",
       "      <td>summary update addonsinfo asrouter target allo...</td>\n",
       "      <td>80</td>\n",
       "      <td>[-0.015150155872106552, 0.003520532278344035, ...</td>\n",
       "    </tr>\n",
       "    <tr>\n",
       "      <th>1</th>\n",
       "      <td>1953155</td>\n",
       "      <td>task</td>\n",
       "      <td>Enable expand on hover and remove coming soon ...</td>\n",
       "      <td>Firefox</td>\n",
       "      <td>Sidebar</td>\n",
       "      <td>RESOLVED</td>\n",
       "      <td>FIXED</td>\n",
       "      <td>P1</td>\n",
       "      <td>--</td>\n",
       "      <td>When expand on hover is enabled, the message s...</td>\n",
       "      <td>summary enable expand on hover remove coming s...</td>\n",
       "      <td>55</td>\n",
       "      <td>[-0.01597077213227749, 0.009659321047365665, 0...</td>\n",
       "    </tr>\n",
       "  </tbody>\n",
       "</table>\n",
       "</div>"
      ],
      "text/plain": [
       "    Bug ID         Type                                            Summary  \\\n",
       "0  1955715  enhancement  Update addonsInfo asrouter targeting to allow ...   \n",
       "1  1953155         task  Enable expand on hover and remove coming soon ...   \n",
       "\n",
       "   Product         Component    Status Resolution Priority Severity  \\\n",
       "0  Firefox  Messaging System  RESOLVED      FIXED       P1       --   \n",
       "1  Firefox           Sidebar  RESOLVED      FIXED       P1       --   \n",
       "\n",
       "                                         Description  \\\n",
       "0  Currently, the addonsInfo targeting returns an...   \n",
       "1  When expand on hover is enabled, the message s...   \n",
       "\n",
       "                                              Concat  N_tokens  \\\n",
       "0  summary update addonsinfo asrouter target allo...        80   \n",
       "1  summary enable expand on hover remove coming s...        55   \n",
       "\n",
       "                                          Embeddings  \n",
       "0  [-0.015150155872106552, 0.003520532278344035, ...  \n",
       "1  [-0.01597077213227749, 0.009659321047365665, 0...  "
      ]
     },
     "execution_count": 5,
     "metadata": {},
     "output_type": "execute_result"
    }
   ],
   "source": [
    "data.head(2)"
   ]
  },
  {
   "cell_type": "code",
   "execution_count": 6,
   "id": "762a4e66-1637-4b46-b9a4-0c7d6031ea0e",
   "metadata": {},
   "outputs": [
    {
     "data": {
      "text/plain": [
       "Priority\n",
       "P1    5534\n",
       "P2    2999\n",
       "P3     623\n",
       "Name: count, dtype: int64"
      ]
     },
     "execution_count": 6,
     "metadata": {},
     "output_type": "execute_result"
    }
   ],
   "source": [
    "data[\"Priority\"].value_counts()"
   ]
  },
  {
   "cell_type": "code",
   "execution_count": 7,
   "id": "018a5a7a-736b-43a0-99bf-ac666354b9b9",
   "metadata": {},
   "outputs": [],
   "source": [
    "# Drop all P3 examples\n",
    "data = data[data[\"Priority\"] != \"P3\"].reset_index(drop = True)"
   ]
  },
  {
   "cell_type": "code",
   "execution_count": 8,
   "id": "0a151c20-3a5e-432d-a062-64d48692fc15",
   "metadata": {},
   "outputs": [],
   "source": [
    "# Mapping the 'label' column (Priority) to a more human-readable text\n",
    "data[\"Priority\"] = data.Priority.replace({'P1': \"priority\", 'P2': \"non-priority\"})"
   ]
  },
  {
   "cell_type": "code",
   "execution_count": 9,
   "id": "0edd3e89-ed71-4531-8f63-e371394ce5b5",
   "metadata": {},
   "outputs": [
    {
     "data": {
      "text/plain": [
       "Priority\n",
       "priority        5534\n",
       "non-priority    2999\n",
       "Name: count, dtype: int64"
      ]
     },
     "execution_count": 9,
     "metadata": {},
     "output_type": "execute_result"
    }
   ],
   "source": [
    "data[\"Priority\"].value_counts()"
   ]
  },
  {
   "cell_type": "markdown",
   "id": "b30c4887-0874-497b-ba1d-844dadb769a2",
   "metadata": {},
   "source": [
    "### Zero-Shot Classification"
   ]
  },
  {
   "cell_type": "code",
   "execution_count": 10,
   "id": "7ab44307-987c-4878-9c13-565b6111de60",
   "metadata": {},
   "outputs": [],
   "source": [
    "# Function to transform the text into embeddings using the model available in the OpenAI API\n",
    "def get_embedding(text: str, model = \"text-embedding-3-small\", **kwargs) -> List[float]:\n",
    "    # Replace newlines, which can negatively affect performance.\n",
    "    text = text.replace(\"\\n\", \" \")\n",
    "\n",
    "    response = client.embeddings.create(input = [text], model = model, **kwargs)\n",
    "\n",
    "    return response.data[0].embedding"
   ]
  },
  {
   "cell_type": "code",
   "execution_count": 11,
   "id": "540010a9-ba89-43ea-995c-a03c0ff36caf",
   "metadata": {},
   "outputs": [],
   "source": [
    "# Function to calculate the cosine similarity\n",
    "def cosine_similarity(a, b):\n",
    "    return np.dot(a, b) / (np.linalg.norm(a) * np.linalg.norm(b))"
   ]
  },
  {
   "cell_type": "code",
   "execution_count": 14,
   "id": "e28bd325-79f1-466e-9ca2-3eaa4fd13e5f",
   "metadata": {},
   "outputs": [],
   "source": [
    "# In the zero shot approach, we will embed the labels (Priority) and calculate the distance with the already vectorized text\n",
    "# If the returned value is greater than zero, we classify the examples as being priority\n",
    "# Otherwise, we classify the example as being non-priority\n",
    "def evaluate_embeddings_approach(\n",
    "    labels = ['non-priority', 'priority'],\n",
    "    model = EMBEDDING_MODEL,\n",
    "):\n",
    "    label_embeddings = [get_embedding(label, model = model) for label in labels]\n",
    "\n",
    "    def label_score(review_embedding, label_embeddings):\n",
    "        return cosine_similarity(review_embedding, label_embeddings[1]) - cosine_similarity(review_embedding, label_embeddings[0])\n",
    "\n",
    "    probas = data[\"Embeddings\"].apply(lambda x: label_score(x, label_embeddings))\n",
    "    preds = probas.apply(lambda x: 'priority' if x > 0 else 'non-priority')\n",
    "\n",
    "    report = classification_report(data.Priority, preds)\n",
    "    print(report)\n",
    "\n",
    "    display = PrecisionRecallDisplay.from_predictions(data.Priority, probas, pos_label = 'priority')\n",
    "    _ = display.ax_.set_title(\"Precision - Recall Curve\")"
   ]
  },
  {
   "cell_type": "code",
   "execution_count": 15,
   "id": "7710e966-d455-4a0c-9aaf-c90738d7b834",
   "metadata": {},
   "outputs": [
    {
     "name": "stdout",
     "output_type": "stream",
     "text": [
      "              precision    recall  f1-score   support\n",
      "\n",
      "non-priority       0.34      0.61      0.44      2999\n",
      "    priority       0.64      0.37      0.46      5534\n",
      "\n",
      "    accuracy                           0.45      8533\n",
      "   macro avg       0.49      0.49      0.45      8533\n",
      "weighted avg       0.53      0.45      0.46      8533\n",
      "\n"
     ]
    },
    {
     "data": {
      "image/png": "[encoded data removed]",
      "text/plain": [
       "<Figure size 640x480 with 1 Axes>"
      ]
     },
     "metadata": {},
     "output_type": "display_data"
    }
   ],
   "source": [
    "# This approach takes into consideration the labels as being words, and we calculate the similarity with the text\n",
    "# Hence, it is called Zero-Shot, because we use the knowledge from the models in the OpenAI API\n",
    "evaluate_embeddings_approach(labels = ['non-priority', 'priority'], model = EMBEDDING_MODEL)"
   ]
  },
  {
   "cell_type": "code",
   "execution_count": 16,
   "id": "4084ff88-82af-46fd-a9ff-70d909eea1c1",
   "metadata": {},
   "outputs": [
    {
     "name": "stdout",
     "output_type": "stream",
     "text": [
      "              precision    recall  f1-score   support\n",
      "\n",
      "non-priority       0.34      0.17      0.22      2999\n",
      "    priority       0.65      0.82      0.72      5534\n",
      "\n",
      "    accuracy                           0.59      8533\n",
      "   macro avg       0.49      0.49      0.47      8533\n",
      "weighted avg       0.54      0.59      0.55      8533\n",
      "\n"
     ]
    },
    {
     "data": {
      "image/png": "[encoded data removed]",
      "text/plain": [
       "<Figure size 640x480 with 1 Axes>"
      ]
     },
     "metadata": {},
     "output_type": "display_data"
    }
   ],
   "source": [
    "# We can specify the text to the labels even further, so we can get a more precise result\n",
    "evaluate_embeddings_approach(labels = ['A Firefox bug report that is not a priority.', 'A Firefox bug report that is a priority.'])"
   ]
  }
 ],
 "metadata": {
  "kernelspec": {
   "display_name": "Python 3 (ipykernel)",
   "language": "python",
   "name": "python3"
  },
  "language_info": {
   "codemirror_mode": {
    "name": "ipython",
    "version": 3
   },
   "file_extension": ".py",
   "mimetype": "text/x-python",
   "name": "python",
   "nbconvert_exporter": "python",
   "pygments_lexer": "ipython3",
   "version": "3.10.12"
  }
 },
 "nbformat": 4,
 "nbformat_minor": 5
}
